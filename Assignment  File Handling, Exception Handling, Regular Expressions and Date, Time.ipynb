{
 "cells": [
  {
   "cell_type": "markdown",
   "id": "60f69c82",
   "metadata": {},
   "source": [
    "### Assignment 1: File Handling"
   ]
  },
  {
   "cell_type": "markdown",
   "id": "e30e4026",
   "metadata": {},
   "source": [
    "### 1. Using File Handling in Python\n",
    "#### a. Create a text file named \"my_file.txt\" and write the following content to it:\n",
    "\n",
    "Hello, this is a sample text file.\n",
    "Python is awesome!\n",
    "\n",
    "#### b. Open the file \"my_file.txt\" in read mode and print its contents.\n",
    "#### c. Add the following text to the end of the file:\n",
    "\n",
    "File handling in Python is easy to learn.\n",
    "\n",
    "#### d. Open the file again in read mode and print its contents to verify the changes.\n"
   ]
  },
  {
   "cell_type": "code",
   "execution_count": 11,
   "id": "4f5ffd4c",
   "metadata": {},
   "outputs": [],
   "source": [
    "# Write the code here"
   ]
  },
  {
   "cell_type": "markdown",
   "id": "64074e32",
   "metadata": {},
   "source": [
    "### 2. Working with CSV Files\n",
    "\n",
    "#### a. Create a CSV file named \"students.csv\" with the following data:\n",
    "\n",
    "Name, Age, Grade\n",
    "John, 20, A\n",
    "Emma, 22, B\n",
    "Alex, 19, A-\n",
    "\n",
    "#### b. Read the contents of the CSV file and print them.\n",
    "#### c. Add a new student named \"Sophia\" with age 21 and grade \"B+\" to the CSV file.\n",
    "#### d. Read the updated contents of the CSV file and print them."
   ]
  },
  {
   "cell_type": "code",
   "execution_count": 12,
   "id": "4351c4a8",
   "metadata": {},
   "outputs": [],
   "source": [
    "# Write the code here"
   ]
  },
  {
   "cell_type": "markdown",
   "id": "e4d5cad3",
   "metadata": {},
   "source": [
    "### Assignment 2: Exception Handling"
   ]
  },
  {
   "cell_type": "markdown",
   "id": "1d16ffd7",
   "metadata": {},
   "source": [
    "### 3. Handling Divide By Zero Error\n",
    "#### a. Write a function named \"divide\" that takes two integers as input and returns their division.\n",
    "#### b. Handle the exception that occurs when dividing by zero and print an appropriate error message.\n",
    "#### c. Test the function by calling it with different inputs including dividing by zero."
   ]
  },
  {
   "cell_type": "code",
   "execution_count": 13,
   "id": "1a31abc4",
   "metadata": {},
   "outputs": [],
   "source": [
    "# Write the code here"
   ]
  },
  {
   "cell_type": "markdown",
   "id": "67138bea",
   "metadata": {},
   "source": [
    "### 4. Handling File Not Found Error\n",
    "#### a. Write a function named \"read_file\" that takes a filename as input and tries to open and read the file.\n",
    "#### b. Handle the exception that occurs when the file is not found and print an appropriate error message.\n",
    "#### c. Test the function by calling it with both existing and non-existing file names."
   ]
  },
  {
   "cell_type": "code",
   "execution_count": 14,
   "id": "fa717614",
   "metadata": {},
   "outputs": [],
   "source": [
    "# Write the code here"
   ]
  },
  {
   "cell_type": "markdown",
   "id": "de03ddc6",
   "metadata": {},
   "source": [
    "### 5. Custom Exception Handling\n",
    "#### a. Define a custom exception class named \"ValueTooHighError\" that inherits from the built-in Exception class.\n",
    "#### b. Write a function named \"check_value\" that takes an integer input and raises a ValueTooHighError if the value is greater than 100.\n",
    "#### c. Handle this custom exception in a try-except block and print an appropriate error message.\n",
    "#### d. Test the function by calling it with values both less than and greater than 100."
   ]
  },
  {
   "cell_type": "code",
   "execution_count": 15,
   "id": "a374b7f0",
   "metadata": {},
   "outputs": [],
   "source": [
    "# Write the code here"
   ]
  },
  {
   "cell_type": "markdown",
   "id": "64a5a7ff",
   "metadata": {},
   "source": [
    "### Assignment 3: Regular Expressions"
   ]
  },
  {
   "cell_type": "markdown",
   "id": "ea55f25f",
   "metadata": {},
   "source": [
    "### 6. Basic Regular Expression Operations\n",
    "#### a. Write a Python program to search for the word \"Python\" in a given string.\n",
    "#### b. Write a regular expression to match any word that starts with the letter \"P\" and ends with the letter \"n\".\n",
    "#### c. Write a function that takes a string as input and returns True if the string contains only letters (both uppercase and lowercase), otherwise False."
   ]
  },
  {
   "cell_type": "code",
   "execution_count": 16,
   "id": "d225ef00",
   "metadata": {},
   "outputs": [],
   "source": [
    "# Write the code here"
   ]
  },
  {
   "cell_type": "markdown",
   "id": "2744d3f0",
   "metadata": {},
   "source": [
    "### 7. Extracting Information using Regular Expressions\n",
    "#### a. Create a string containing a list of email addresses.\n",
    "#### b. Write a regular expression to extract all the domain names from the email addresses.\n",
    "#### c. Write a Python function that takes an email address as input and returns True if it's valid, otherwise False, using regular expressions to validate the format."
   ]
  },
  {
   "cell_type": "code",
   "execution_count": 17,
   "id": "c9f93731",
   "metadata": {},
   "outputs": [],
   "source": [
    "# Write the code here"
   ]
  },
  {
   "cell_type": "markdown",
   "id": "aa48d93e",
   "metadata": {},
   "source": [
    "### Assignment 4: Date and Time"
   ]
  },
  {
   "cell_type": "markdown",
   "id": "d590d407",
   "metadata": {},
   "source": [
    "### 8. Working with Date and Time\n",
    "#### a. Write a Python program to display the current date and time.\n",
    "#### b. Write a function that takes two dates as input and calculates the number of days between them.\n",
    "#### c. Write a Python program to convert a given string representing a date in the format \"YYYY-MM-DD\" to a datetime object."
   ]
  },
  {
   "cell_type": "code",
   "execution_count": 18,
   "id": "25b0f1fc",
   "metadata": {},
   "outputs": [],
   "source": [
    "# Write the code here"
   ]
  },
  {
   "cell_type": "markdown",
   "id": "3da0bfd9",
   "metadata": {},
   "source": [
    "### 9. Formatting Date and Time\n",
    "#### a. Write a Python program to display the current date and time in various formats (e.g., \"MM/DD/YYYY\", \"YYYY-MM-DD HH:MM:SS\").\n",
    "#### b. Write a function that takes a datetime object as input and formats it as \"Month Day, Year\" (e.g., \"January 1, 2023\").\n",
    "#### c. Write a Python program to parse a string representing a date in various formats (e.g., \"MM/DD/YYYY\", \"YYYY-MM-DD\") and convert it to a datetime object."
   ]
  },
  {
   "cell_type": "code",
   "execution_count": 3,
   "id": "c5c4cd3a",
   "metadata": {},
   "outputs": [],
   "source": [
    "# Write the code here"
   ]
  }
 ],
 "metadata": {
  "kernelspec": {
   "display_name": "Python 3 (ipykernel)",
   "language": "python",
   "name": "python3"
  },
  "language_info": {
   "codemirror_mode": {
    "name": "ipython",
    "version": 3
   },
   "file_extension": ".py",
   "mimetype": "text/x-python",
   "name": "python",
   "nbconvert_exporter": "python",
   "pygments_lexer": "ipython3",
   "version": "3.11.5"
  }
 },
 "nbformat": 4,
 "nbformat_minor": 5
}
