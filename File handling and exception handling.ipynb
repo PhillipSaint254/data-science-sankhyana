{
 "cells": [
  {
   "cell_type": "markdown",
   "id": "c5eef1a0",
   "metadata": {},
   "source": [
    "# (2.5) File handling and Exception handling"
   ]
  },
  {
   "cell_type": "markdown",
   "id": "aea3d084",
   "metadata": {},
   "source": [
    "# Modules\n",
    "A module is basically a bunch of related code saved in a file with the extension .py     \n",
    "\n",
    "For example, lets define a function to welcome new students to a particular course.     \n",
    "\n",
    "Write the below program in notepad and store the file as welcome.py. Make sure it is stored into the folder where you can access the file from jupyter notebook."
   ]
  },
  {
   "cell_type": "raw",
   "id": "b03753c2",
   "metadata": {},
   "source": [
    "def welcome_message(course):\n",
    "    print(\"Thankyou for subscribing to our \"+ course +\" course you will get all the details in an email shortly.\")"
   ]
  },
  {
   "cell_type": "code",
   "execution_count": null,
   "id": "6b1c51ab",
   "metadata": {},
   "outputs": [],
   "source": [
    "import welcome\n",
    "welcome.welcome_message('Python ML')"
   ]
  },
  {
   "cell_type": "raw",
   "id": "c54f7086",
   "metadata": {},
   "source": [
    "def myModule(name):\n",
    "    print(\"This is My Module : \"+ name)  ### store the file as demo_module"
   ]
  },
  {
   "cell_type": "code",
   "execution_count": null,
   "id": "0d692016",
   "metadata": {},
   "outputs": [],
   "source": [
    "import demo_module\n",
    "demo_module.myModule(\"Math\")\n",
    "demo_module.myModule(\"social\")"
   ]
  },
  {
   "cell_type": "markdown",
   "id": "88c17957",
   "metadata": {},
   "source": [
    "# Library"
   ]
  },
  {
   "cell_type": "code",
   "execution_count": null,
   "id": "12e953cd",
   "metadata": {},
   "outputs": [],
   "source": [
    "# Importing math library\n",
    "import math\n",
    "A = 16\n",
    "print(math.sqrt(A))"
   ]
  },
  {
   "cell_type": "code",
   "execution_count": null,
   "id": "4f2993b3",
   "metadata": {},
   "outputs": [],
   "source": [
    "# Importing specific items\n",
    "from math import sqrt, sin\n",
    "A = 16\n",
    "B = 3.14\n",
    "print(sqrt(A))\n",
    "print(sin(B))"
   ]
  },
  {
   "cell_type": "markdown",
   "id": "c55e018a",
   "metadata": {},
   "source": [
    "# File handling\n",
    "Python provides inbuilt functions for creating, writing and reading files.         \n",
    "There are two types of files that can be handled in python, normal text files and binary files (written in binary language, 0s and 1s).        \n",
    "Text files: In this type of file, Each line of text is terminated with a special character called EOL (End of Line), which is the new line character (‘\\n’) in python by default.      \n",
    "Binary files: In this type of file, there is no terminator for a line and the data is stored after converting it into machine-understandable binary language.      \n",
    "\n",
    "# Types of modes\n",
    "r: open an existing file for a read operation.     \n",
    "w: open an existing file for a write operation. If the file already contains some data then it will be overridden.      \n",
    "a: open an existing file for append operation. It won’t override existing data.              \n",
    "r+: To read and write data into the file. The previous data in the file will be overridden.           \n",
    "w+: To write and read data. It will override existing data.                         \n",
    "a+: To append and read data from the file. It won’t override existing data.           "
   ]
  },
  {
   "cell_type": "code",
   "execution_count": null,
   "id": "5efad7ac",
   "metadata": {},
   "outputs": [],
   "source": [
    "# The open command will open the file in the read mode and f here, im renaming my 'books and authors for AI' file as f.\n",
    "with open(r\"C:\\Users\\Administrator\\Desktop\\Data Science\\Jupiter notebook programs\\Books and Authors for AI.txt\", \"r\") as f:\n",
    "    x=f.read()                        \n",
    "    print(x)"
   ]
  },
  {
   "cell_type": "code",
   "execution_count": null,
   "id": "707d4931",
   "metadata": {},
   "outputs": [],
   "source": [
    "def file_handle(file_path):\n",
    "    file=open(file_path,\"r\")   #file_path: Mention the path of your file where it is located in your directory \n",
    "    x=file.read()\n",
    "    print(x)\n",
    "    \n",
    "file_handle(r\"C:\\Users\\Administrator\\DS - Jupyter NB\\Books and Authors for AI.txt\")"
   ]
  },
  {
   "cell_type": "code",
   "execution_count": null,
   "id": "2c5ae5d3",
   "metadata": {},
   "outputs": [],
   "source": [
    "# Reading the files\n",
    "with open(r\"C:\\Users\\Administrator\\DS - Jupyter NB\\Books and Authors for AI.txt\",\"r\") as f:\n",
    "    x=f.read(15) #---->#Returns the read bytes in form of a string. Reads n bytes, if no n specified, reads the entire file.\n",
    "    print(x)"
   ]
  },
  {
   "cell_type": "code",
   "execution_count": null,
   "id": "753a5cb5",
   "metadata": {},
   "outputs": [],
   "source": [
    "with open(r\"C:\\Users\\Administrator\\DS - Jupyter NB\\Books and Authors for AI.txt\",\"r\") as f:\n",
    "    x=f.readlines(1000) #---->Reads all the lines and return them as each line a string element in a list.\n",
    "    print(x)"
   ]
  },
  {
   "cell_type": "code",
   "execution_count": null,
   "id": "904732ae",
   "metadata": {},
   "outputs": [],
   "source": [
    "# Python code to create/write a file\n",
    "# creating a file using write mode. so in order to manipulate the file, write the following in your Python environment: \n",
    "\n",
    "file = open(r'Nishar.txt','w')\n",
    "file.write(\"Be not afraid of greatness.\")\n",
    "file.write(\" Some are born great, some achieve greatness, and others have greatness thrust upon them.\")\n",
    "file.close()  # The close() command terminates all the resources in use and frees the system of this particular program. \n"
   ]
  },
  {
   "cell_type": "code",
   "execution_count": null,
   "id": "330fd2d2",
   "metadata": {},
   "outputs": [],
   "source": [
    "file = open(r'Sankhyana.txt','w')\n",
    "file.write(\"This is the write command.\")\n",
    "file.write(\" It allows us to write in a particular file. \")\n",
    "file.close()  "
   ]
  },
  {
   "cell_type": "code",
   "execution_count": null,
   "id": "821e3c08",
   "metadata": {},
   "outputs": [],
   "source": [
    "with open(r\"Nishar.txt\",\"r\") as f:\n",
    "    x=f.read()\n",
    "    print(x)"
   ]
  },
  {
   "cell_type": "code",
   "execution_count": null,
   "id": "dbd83302",
   "metadata": {},
   "outputs": [],
   "source": [
    "# Python code to illustrate append() mode\n",
    "\n",
    "file = open(r'Nishar.txt','a')\n",
    "file.write(\"  William Shakespeare.\")\n",
    "file.close()"
   ]
  },
  {
   "cell_type": "markdown",
   "id": "fb8d7019",
   "metadata": {},
   "source": [
    "# OS module\n",
    "# How to check a particular file exists or not?\n",
    "We can use os library to get information about files in our computer.     \n",
    "os module has path sub module,which contains is File() function to check whether a particular file exists or not?     \n",
    "os.path.isfile(fname)"
   ]
  },
  {
   "cell_type": "code",
   "execution_count": null,
   "id": "7314901e",
   "metadata": {},
   "outputs": [],
   "source": [
    "Directory=r'C:\\Users\\Administrator\\Desktop\\Data Science\\DS Programs and data\\Cat_or_Dog_Images_Folder'\n",
    "Categories=['Cat','Dog']"
   ]
  },
  {
   "cell_type": "code",
   "execution_count": null,
   "id": "c1e4d557",
   "metadata": {},
   "outputs": [],
   "source": [
    "import os\n",
    "for category in Categories:\n",
    "    path=os.path.join(Directory,category)\n",
    "    print(path)"
   ]
  },
  {
   "cell_type": "code",
   "execution_count": null,
   "id": "ac09dd26",
   "metadata": {},
   "outputs": [],
   "source": [
    "import os\n",
    "for category in Categories:\n",
    "    path=os.path.join(Directory,category)\n",
    "    for img in os.listdir(path):\n",
    "        print(os.path.join(path,img))\n",
    "        break       "
   ]
  },
  {
   "cell_type": "markdown",
   "id": "ebb11365",
   "metadata": {},
   "source": [
    "# Pickling\n",
    "Pickling is the process of converting python objects to bytes streams(0s and 1s).           \n",
    "We use Pickling because its easy to store. We also call pickling as serialising or flattening or marshalling.      \n",
    "We can also convert the byte stream (generated by pickling) back into python objects by a process called unpickling."
   ]
  },
  {
   "cell_type": "code",
   "execution_count": null,
   "id": "a65adc65",
   "metadata": {},
   "outputs": [],
   "source": [
    "import pickle\n",
    "data={\"Dog\":2,\"Cats\":4,\"Elephants\":10,\"Horse\":5}\n",
    "filename=\"Dogs_data\"\n",
    "outputfile=open(filename,\"wb\")      \n",
    "pickle.dump(data,outputfile)    #dumping the data"
   ]
  },
  {
   "cell_type": "markdown",
   "id": "55cb7e1a",
   "metadata": {},
   "source": [
    "# Unpickling\n",
    "Process of converting bytes to python objects."
   ]
  },
  {
   "cell_type": "code",
   "execution_count": null,
   "id": "f21b1d98",
   "metadata": {},
   "outputs": [],
   "source": [
    "#import pickle\n",
    "filename=\"Dogs_data\"\n",
    "outputfile=open(filename,\"rb\")\n",
    "file=pickle.load(outputfile)   #Loading the data\n",
    "file"
   ]
  },
  {
   "cell_type": "code",
   "execution_count": null,
   "id": "b1d17817",
   "metadata": {},
   "outputs": [],
   "source": [
    "#pickling\n",
    "import pickle\n",
    "dogs_dict={'dog':3, 'cats':8, 'rats':5, 'snakes':10, 'lizard':12, 'ants':9, 'nuts':16 }\n",
    "filename= 'dogs'\n",
    "outfile= open (filename,'wb')\n",
    "pickle.dump(dogs_dict,outfile)\n",
    "outfile.close()\n",
    "print(outfile)    # dumping the data."
   ]
  },
  {
   "cell_type": "code",
   "execution_count": 1,
   "id": "b38fd758",
   "metadata": {},
   "outputs": [
    {
     "ename": "FileNotFoundError",
     "evalue": "[Errno 2] No such file or directory: 'dogs'",
     "output_type": "error",
     "traceback": [
      "\u001b[1;31m---------------------------------------------------------------------------\u001b[0m",
      "\u001b[1;31mFileNotFoundError\u001b[0m                         Traceback (most recent call last)",
      "Cell \u001b[1;32mIn[1], line 4\u001b[0m\n\u001b[0;32m      2\u001b[0m \u001b[38;5;28;01mimport\u001b[39;00m \u001b[38;5;21;01mpickle\u001b[39;00m\n\u001b[0;32m      3\u001b[0m bin_file\u001b[38;5;241m=\u001b[39m\u001b[38;5;124m'\u001b[39m\u001b[38;5;124mdogs\u001b[39m\u001b[38;5;124m'\u001b[39m\n\u001b[1;32m----> 4\u001b[0m infile\u001b[38;5;241m=\u001b[39m \u001b[38;5;28mopen\u001b[39m(bin_file,\u001b[38;5;124m'\u001b[39m\u001b[38;5;124mrb\u001b[39m\u001b[38;5;124m'\u001b[39m)\n\u001b[0;32m      5\u001b[0m new_dict\u001b[38;5;241m=\u001b[39m pickle\u001b[38;5;241m.\u001b[39mload(infile)\n\u001b[0;32m      6\u001b[0m infile\u001b[38;5;241m.\u001b[39mclose()\n",
      "File \u001b[1;32m~\\anaconda3\\Lib\\site-packages\\IPython\\core\\interactiveshell.py:286\u001b[0m, in \u001b[0;36m_modified_open\u001b[1;34m(file, *args, **kwargs)\u001b[0m\n\u001b[0;32m    279\u001b[0m \u001b[38;5;28;01mif\u001b[39;00m file \u001b[38;5;129;01min\u001b[39;00m {\u001b[38;5;241m0\u001b[39m, \u001b[38;5;241m1\u001b[39m, \u001b[38;5;241m2\u001b[39m}:\n\u001b[0;32m    280\u001b[0m     \u001b[38;5;28;01mraise\u001b[39;00m \u001b[38;5;167;01mValueError\u001b[39;00m(\n\u001b[0;32m    281\u001b[0m         \u001b[38;5;124mf\u001b[39m\u001b[38;5;124m\"\u001b[39m\u001b[38;5;124mIPython won\u001b[39m\u001b[38;5;124m'\u001b[39m\u001b[38;5;124mt let you open fd=\u001b[39m\u001b[38;5;132;01m{\u001b[39;00mfile\u001b[38;5;132;01m}\u001b[39;00m\u001b[38;5;124m by default \u001b[39m\u001b[38;5;124m\"\u001b[39m\n\u001b[0;32m    282\u001b[0m         \u001b[38;5;124m\"\u001b[39m\u001b[38;5;124mas it is likely to crash IPython. If you know what you are doing, \u001b[39m\u001b[38;5;124m\"\u001b[39m\n\u001b[0;32m    283\u001b[0m         \u001b[38;5;124m\"\u001b[39m\u001b[38;5;124myou can use builtins\u001b[39m\u001b[38;5;124m'\u001b[39m\u001b[38;5;124m open.\u001b[39m\u001b[38;5;124m\"\u001b[39m\n\u001b[0;32m    284\u001b[0m     )\n\u001b[1;32m--> 286\u001b[0m \u001b[38;5;28;01mreturn\u001b[39;00m io_open(file, \u001b[38;5;241m*\u001b[39margs, \u001b[38;5;241m*\u001b[39m\u001b[38;5;241m*\u001b[39mkwargs)\n",
      "\u001b[1;31mFileNotFoundError\u001b[0m: [Errno 2] No such file or directory: 'dogs'"
     ]
    }
   ],
   "source": [
    "#unpickling\n",
    "import pickle\n",
    "bin_file='dogs'\n",
    "infile= open(bin_file,'rb')\n",
    "new_dict= pickle.load(infile)\n",
    "infile.close()\n",
    "print(new_dict)  # loading the data"
   ]
  },
  {
   "cell_type": "markdown",
   "id": "04cd64bc",
   "metadata": {},
   "source": [
    "# Exception handling\n",
    "An exception is an event which occurs during the execution of a program, that disrupts the normal flow of the program instructions.            \n",
    "There are two types of errors.      \n",
    "syntax error and exceptions"
   ]
  },
  {
   "cell_type": "markdown",
   "id": "9d9a4466",
   "metadata": {},
   "source": [
    "# Syntax error...\n",
    "The errors which occurs because of invalid syntax are called syntax errors."
   ]
  },
  {
   "cell_type": "code",
   "execution_count": null,
   "id": "25e359f3",
   "metadata": {},
   "outputs": [],
   "source": [
    "print \"Hello\""
   ]
  },
  {
   "cell_type": "code",
   "execution_count": null,
   "id": "2a61a202",
   "metadata": {},
   "outputs": [],
   "source": [
    "#syntax error... \n",
    "amount=10000\n",
    "if (amount > 2999)\n",
    "    print(\"you are eligible\")"
   ]
  },
  {
   "cell_type": "markdown",
   "id": "4ba529bc",
   "metadata": {},
   "source": [
    "# Exceptions\n",
    "While executing the program if something goes wrong, because of end user input or programming logic or memory problems etc are called exceptions or runtime errors.   \n",
    "\n",
    "## Note: \n",
    "Exception Handling concept is applicable only for exceptions but not for syntax errors. Some examples of exceptional errors are:        \n",
    "==>ZeroDivisionError      \n",
    "==>TypeError      \n",
    "==>ValueError    \n",
    "==>FileNotFoundError      \n",
    "==>EOFError          \n",
    "==>SleepingError     \n",
    "==>TyrePuncturedError     "
   ]
  },
  {
   "cell_type": "code",
   "execution_count": null,
   "id": "0f782d17",
   "metadata": {},
   "outputs": [],
   "source": [
    "marks=10000\n",
    "a=marks/0\n",
    "print(a)"
   ]
  },
  {
   "cell_type": "code",
   "execution_count": null,
   "id": "5a7e94dd",
   "metadata": {},
   "outputs": [],
   "source": [
    "print(10/\"ten\")"
   ]
  },
  {
   "cell_type": "code",
   "execution_count": null,
   "id": "f11e4667",
   "metadata": {},
   "outputs": [],
   "source": [
    "\n",
    "x=int(input(\"Enter Number:\"))\n",
    "print(x)"
   ]
  },
  {
   "cell_type": "markdown",
   "id": "24cad022",
   "metadata": {},
   "source": [
    "An exception is an event, which occurs during the excecution of the program, that disrupts normal flow of the programs instructions.      \n",
    "Exception handling is done the below parameters.      \n",
    "1)try      \n",
    "2)except       \n",
    "3)finally      \n",
    "Exception handling does not mean repairing exception. We have to define alternative way to continue rest of the program normally.                \n",
    "                                \n",
    "====> It is highly recommended to handle exceptions. The main objective of exception handling is Graceful Termination of the program (i.e, we should not block our resources and we should not miss anything)              "
   ]
  },
  {
   "cell_type": "raw",
   "id": "8658f98d",
   "metadata": {},
   "source": [
    "try:\n",
    "    (run this code)\n",
    "    \n",
    "except:\n",
    "    (run this code if an exception occurs)\n",
    "    \n",
    "else:\n",
    "   (run this code if no exception occurs)\n",
    "\n",
    "finally:\n",
    "    (always runs this code)"
   ]
  },
  {
   "cell_type": "code",
   "execution_count": null,
   "id": "d592fe30",
   "metadata": {},
   "outputs": [],
   "source": [
    "try:\n",
    "    print(\"Hello\")\n",
    "    \n",
    "except:\n",
    "    print(\"Something went wrong\")\n",
    "    \n",
    "else:\n",
    "    print(\"Nothing went wrong\")\n",
    "\n",
    "finally:\n",
    "    print(\"Bye!!!!\")"
   ]
  },
  {
   "cell_type": "code",
   "execution_count": null,
   "id": "eef69233",
   "metadata": {},
   "outputs": [],
   "source": [
    "try:\n",
    "    y=3/0\n",
    "    print(y)\n",
    "except ZeroDivisionError as msg:\n",
    "    print(\"Error:\",msg)  # to print exception information ==> print('.....',msg)"
   ]
  },
  {
   "cell_type": "code",
   "execution_count": null,
   "id": "811fa5e5",
   "metadata": {},
   "outputs": [],
   "source": [
    "print(\"str-1\")\n",
    "try:\n",
    "    print(10/0)\n",
    "except ZeroDivisionError:\n",
    "    print(10/2)\n",
    "print(\"str-3\")"
   ]
  },
  {
   "cell_type": "markdown",
   "id": "d24e8498",
   "metadata": {},
   "source": [
    "# Decorators\n",
    "Decorator is a function which can take a function as argument and extend its functionality and returns modified function with extended functionality          \n",
    "The main objective of decorator functions is we can extend the functionality of existing functions without modifing that function.      "
   ]
  },
  {
   "cell_type": "code",
   "execution_count": null,
   "id": "5f6150b3",
   "metadata": {},
   "outputs": [],
   "source": [
    "#This function can always print same output for any name\n",
    "def wish(name):\n",
    "    print(\"Hello\",name,\"Good Morning\")\n",
    "wish('ram')\n",
    "wish('sita')\n",
    "wish('bhim')"
   ]
  },
  {
   "cell_type": "markdown",
   "id": "5c65aeb4",
   "metadata": {},
   "source": [
    "But we want to modify this function to provide different message if name is Sunny.      \n",
    "We can do this without touching wish() function by using decorator."
   ]
  },
  {
   "cell_type": "code",
   "execution_count": null,
   "id": "1ff6a01f",
   "metadata": {},
   "outputs": [],
   "source": [
    "def decor(func):\n",
    "    def inner(name):\n",
    "        if name==\"sunny\":\n",
    "            print(\"hello sunny bad morning\")\n",
    "        else:\n",
    "            func(name)\n",
    "    return inner\n",
    "@decor\n",
    "def wish(name):\n",
    "    print(\"Hello\",name,\"Good Morning\")\n",
    "wish(\"ram\")\n",
    "wish(\"sunny\")\n",
    "wish(\"sita\")\n"
   ]
  },
  {
   "cell_type": "markdown",
   "id": "3f27213d",
   "metadata": {},
   "source": [
    "Decorators allows a programmer to add new functionality to existing functions or classes, without modifying the existing structure.        \n",
    "In Decorators, functions are taken as the argument into another function and then called inside the wrapper function."
   ]
  },
  {
   "cell_type": "code",
   "execution_count": null,
   "id": "b7fb5510",
   "metadata": {},
   "outputs": [],
   "source": [
    "#by using @\n",
    "def upper_case(func):\n",
    "    def inner():\n",
    "        s=func()\n",
    "        return s.lower()\n",
    "    return inner\n",
    "@upper_case\n",
    "def value():\n",
    "    return (\"HELLO HOPE YOU DOIN GOOD\")\n",
    "value()"
   ]
  },
  {
   "cell_type": "code",
   "execution_count": null,
   "id": "f649c595",
   "metadata": {},
   "outputs": [],
   "source": [
    "def pos(funct):\n",
    "    def inner(a,b):\n",
    "        s=funct(a,b)\n",
    "        if a>b:\n",
    "            return a-b\n",
    "        else:\n",
    "            temp=a\n",
    "            a=b\n",
    "            b=temp\n",
    "            return a-b\n",
    "    return inner\n",
    "@pos\n",
    "def Positive(a,b):\n",
    "    return a-b\n",
    "Positive(10,20)"
   ]
  },
  {
   "cell_type": "markdown",
   "id": "cf51d90a",
   "metadata": {},
   "source": [
    "# Iterators\n",
    "Iterator in python is an object that is used to iterate over iterable objects like lists, tuples, dicts, and sets.               \n",
    "The iterator object is initialized using the iter() method. It uses the next() method for iteration.           "
   ]
  },
  {
   "cell_type": "code",
   "execution_count": null,
   "id": "31bb7701",
   "metadata": {},
   "outputs": [],
   "source": [
    "list_of_vals=[10,20,30,40,50]\n",
    "\n",
    "iterator=iter(list_of_vals)\n",
    "print(next(iterator))\n",
    "print(next(iterator))\n",
    "print(next(iterator))\n",
    "print(next(iterator))\n",
    "print(next(iterator))\n",
    "print(next(iterator))"
   ]
  },
  {
   "cell_type": "code",
   "execution_count": null,
   "id": "6d3c4e75",
   "metadata": {},
   "outputs": [],
   "source": []
  },
  {
   "cell_type": "code",
   "execution_count": null,
   "id": "7d0c72c9",
   "metadata": {},
   "outputs": [],
   "source": []
  }
 ],
 "metadata": {
  "kernelspec": {
   "display_name": "Python 3 (ipykernel)",
   "language": "python",
   "name": "python3"
  },
  "language_info": {
   "codemirror_mode": {
    "name": "ipython",
    "version": 3
   },
   "file_extension": ".py",
   "mimetype": "text/x-python",
   "name": "python",
   "nbconvert_exporter": "python",
   "pygments_lexer": "ipython3",
   "version": "3.11.5"
  }
 },
 "nbformat": 4,
 "nbformat_minor": 5
}
